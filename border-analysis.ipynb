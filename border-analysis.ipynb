{
 "cells": [
  {
   "cell_type": "markdown",
   "metadata": {},
   "source": [
    "# Border Analysis with GradCAM"
   ]
  },
  {
   "cell_type": "markdown",
   "metadata": {},
   "source": [
    "## Set up environment"
   ]
  },
  {
   "cell_type": "code",
   "execution_count": null,
   "metadata": {},
   "outputs": [],
   "source": [
    "#install things\n",
    "#import things"
   ]
  },
  {
   "cell_type": "markdown",
   "metadata": {},
   "source": [
    "## Initialize data\n",
    "\n",
    "This section uses an example ultrasound image. You can choose between the two anatomical structures presented in the paper: thyroid and leg. \n",
    "If you want to use your own data, change the code according to your needs."
   ]
  },
  {
   "cell_type": "code",
   "execution_count": null,
   "metadata": {},
   "outputs": [],
   "source": [
    "anatomical_structure = \"leg\" #choose between two alternatives: \"leg\" and \"thyroid\"\n",
    "\n",
    "transforms = Compose([\n",
    "    LoadImaged(keys=(\"img\", \"label\"), image_only=True),\n",
    "    Transposed(keys=(\"img\", \"label\"), indices=(2,1,0)),\n",
    "    EnsureChannelFirstd(keys=(\"img\", \"label\")),\n",
    "    Resized(keys=(\"img\", \"label\"), spatial_size=(96,96,96), mode=(\"trilinear\", \"nearest\"), align_corners=(False, None)),\n",
    "    ToTensord(keys=(\"img\", \"label\")),\n",
    "])\n",
    "\n"
   ]
  },
  {
   "cell_type": "markdown",
   "metadata": {},
   "source": [
    "## Load model\n",
    "\n",
    "This section uses the weights and models provided in this repository. You can use your own networks instead."
   ]
  },
  {
   "cell_type": "code",
   "execution_count": null,
   "metadata": {},
   "outputs": [],
   "source": []
  }
 ],
 "metadata": {
  "language_info": {
   "name": "python"
  }
 },
 "nbformat": 4,
 "nbformat_minor": 2
}
